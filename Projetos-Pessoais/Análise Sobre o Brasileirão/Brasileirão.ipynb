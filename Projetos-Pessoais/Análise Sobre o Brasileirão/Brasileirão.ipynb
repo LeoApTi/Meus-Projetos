{
 "cells": [
  {
   "cell_type": "code",
   "execution_count": 1,
   "id": "481ae834-f2ac-4720-b493-15b83760a852",
   "metadata": {},
   "outputs": [],
   "source": [
    "import pandas as pd"
   ]
  },
  {
   "cell_type": "code",
   "execution_count": 2,
   "id": "a6c75f01-a9f2-4bd0-a1db-75eb336df120",
   "metadata": {},
   "outputs": [],
   "source": [
    "df_gols = pd.read_csv('campeonato-brasileiro-gols.csv')"
   ]
  },
  {
   "cell_type": "code",
   "execution_count": 3,
   "id": "8a5fd778-5f2b-4ab3-9bdf-43306d2643b3",
   "metadata": {},
   "outputs": [
    {
     "data": {
      "text/html": [
       "<div>\n",
       "<style scoped>\n",
       "    .dataframe tbody tr th:only-of-type {\n",
       "        vertical-align: middle;\n",
       "    }\n",
       "\n",
       "    .dataframe tbody tr th {\n",
       "        vertical-align: top;\n",
       "    }\n",
       "\n",
       "    .dataframe thead th {\n",
       "        text-align: right;\n",
       "    }\n",
       "</style>\n",
       "<table border=\"1\" class=\"dataframe\">\n",
       "  <thead>\n",
       "    <tr style=\"text-align: right;\">\n",
       "      <th></th>\n",
       "      <th>partida_id</th>\n",
       "      <th>rodata</th>\n",
       "      <th>clube</th>\n",
       "      <th>atleta</th>\n",
       "      <th>minuto</th>\n",
       "      <th>tipo_de_gol</th>\n",
       "    </tr>\n",
       "  </thead>\n",
       "  <tbody>\n",
       "    <tr>\n",
       "      <th>0</th>\n",
       "      <td>4607</td>\n",
       "      <td>1</td>\n",
       "      <td>Fluminense</td>\n",
       "      <td>Nirley da Silva Fonseca</td>\n",
       "      <td>59</td>\n",
       "      <td>Gol Contra</td>\n",
       "    </tr>\n",
       "    <tr>\n",
       "      <th>1</th>\n",
       "      <td>4607</td>\n",
       "      <td>1</td>\n",
       "      <td>Fluminense</td>\n",
       "      <td>Fred</td>\n",
       "      <td>45</td>\n",
       "      <td>Penalty</td>\n",
       "    </tr>\n",
       "    <tr>\n",
       "      <th>2</th>\n",
       "      <td>4607</td>\n",
       "      <td>1</td>\n",
       "      <td>Fluminense</td>\n",
       "      <td>Rafael Sóbis</td>\n",
       "      <td>31</td>\n",
       "      <td>NaN</td>\n",
       "    </tr>\n",
       "    <tr>\n",
       "      <th>3</th>\n",
       "      <td>4608</td>\n",
       "      <td>1</td>\n",
       "      <td>Internacional</td>\n",
       "      <td>Charles Aránguiz</td>\n",
       "      <td>6</td>\n",
       "      <td>NaN</td>\n",
       "    </tr>\n",
       "    <tr>\n",
       "      <th>4</th>\n",
       "      <td>4612</td>\n",
       "      <td>1</td>\n",
       "      <td>Cruzeiro</td>\n",
       "      <td>Nílton Ferreira Júnior</td>\n",
       "      <td>63</td>\n",
       "      <td>NaN</td>\n",
       "    </tr>\n",
       "    <tr>\n",
       "      <th>...</th>\n",
       "      <td>...</td>\n",
       "      <td>...</td>\n",
       "      <td>...</td>\n",
       "      <td>...</td>\n",
       "      <td>...</td>\n",
       "      <td>...</td>\n",
       "    </tr>\n",
       "    <tr>\n",
       "      <th>8927</th>\n",
       "      <td>8403</td>\n",
       "      <td>38</td>\n",
       "      <td>Santos</td>\n",
       "      <td>Messias Rodrigues da Silva Júnior</td>\n",
       "      <td>58</td>\n",
       "      <td>NaN</td>\n",
       "    </tr>\n",
       "    <tr>\n",
       "      <th>8928</th>\n",
       "      <td>8404</td>\n",
       "      <td>38</td>\n",
       "      <td>Sao Paulo</td>\n",
       "      <td>Luciano da Rocha Neves</td>\n",
       "      <td>26</td>\n",
       "      <td>NaN</td>\n",
       "    </tr>\n",
       "    <tr>\n",
       "      <th>8929</th>\n",
       "      <td>8405</td>\n",
       "      <td>38</td>\n",
       "      <td>Vasco</td>\n",
       "      <td>Sergio Antonio De Luiz Junior</td>\n",
       "      <td>82</td>\n",
       "      <td>NaN</td>\n",
       "    </tr>\n",
       "    <tr>\n",
       "      <th>8930</th>\n",
       "      <td>8405</td>\n",
       "      <td>38</td>\n",
       "      <td>Bragantino</td>\n",
       "      <td>Léo Ortiz</td>\n",
       "      <td>63</td>\n",
       "      <td>NaN</td>\n",
       "    </tr>\n",
       "    <tr>\n",
       "      <th>8931</th>\n",
       "      <td>8405</td>\n",
       "      <td>38</td>\n",
       "      <td>Vasco</td>\n",
       "      <td>Paulinho</td>\n",
       "      <td>29</td>\n",
       "      <td>NaN</td>\n",
       "    </tr>\n",
       "  </tbody>\n",
       "</table>\n",
       "<p>8932 rows × 6 columns</p>\n",
       "</div>"
      ],
      "text/plain": [
       "      partida_id  rodata          clube                             atleta  \\\n",
       "0           4607       1     Fluminense            Nirley da Silva Fonseca   \n",
       "1           4607       1     Fluminense                               Fred   \n",
       "2           4607       1     Fluminense                       Rafael Sóbis   \n",
       "3           4608       1  Internacional                   Charles Aránguiz   \n",
       "4           4612       1       Cruzeiro             Nílton Ferreira Júnior   \n",
       "...          ...     ...            ...                                ...   \n",
       "8927        8403      38         Santos  Messias Rodrigues da Silva Júnior   \n",
       "8928        8404      38      Sao Paulo             Luciano da Rocha Neves   \n",
       "8929        8405      38          Vasco      Sergio Antonio De Luiz Junior   \n",
       "8930        8405      38     Bragantino                          Léo Ortiz   \n",
       "8931        8405      38          Vasco                           Paulinho   \n",
       "\n",
       "     minuto tipo_de_gol  \n",
       "0        59  Gol Contra  \n",
       "1        45     Penalty  \n",
       "2        31         NaN  \n",
       "3         6         NaN  \n",
       "4        63         NaN  \n",
       "...     ...         ...  \n",
       "8927     58         NaN  \n",
       "8928     26         NaN  \n",
       "8929     82         NaN  \n",
       "8930     63         NaN  \n",
       "8931     29         NaN  \n",
       "\n",
       "[8932 rows x 6 columns]"
      ]
     },
     "execution_count": 3,
     "metadata": {},
     "output_type": "execute_result"
    }
   ],
   "source": [
    "df_gols"
   ]
  },
  {
   "cell_type": "code",
   "execution_count": 4,
   "id": "d73ae452-1f60-4c0c-936b-5a86301fa1f0",
   "metadata": {},
   "outputs": [
    {
     "data": {
      "text/plain": [
       "Index(['partida_id', 'rodata', 'clube', 'atleta', 'minuto', 'tipo_de_gol'], dtype='object')"
      ]
     },
     "execution_count": 4,
     "metadata": {},
     "output_type": "execute_result"
    }
   ],
   "source": [
    "df_gols.columns"
   ]
  },
  {
   "cell_type": "code",
   "execution_count": 5,
   "id": "88c94546-f121-4ba2-952a-9d3bb3fedb6d",
   "metadata": {},
   "outputs": [
    {
     "data": {
      "text/plain": [
       "array(['Fluminense', 'Internacional', 'Cruzeiro', 'Bahia', 'Sao Paulo',\n",
       "       'Athletico-PR', 'Santos', 'Sport', 'Criciuma', 'Palmeiras',\n",
       "       'Vitoria', 'Botafogo-RJ', 'Corinthians', 'Chapecoense',\n",
       "       'Atletico-MG', 'Gremio', 'Goias', 'Coritiba', 'Flamengo',\n",
       "       'Figueirense', 'Ponte Preta', 'Avai', 'Vasco', 'Joinville',\n",
       "       'Santa Cruz', 'America-MG', 'Atletico-GO', 'Parana', 'Ceara',\n",
       "       'CSA', 'Fortaleza', 'Bragantino', 'Juventude', 'Cuiaba'],\n",
       "      dtype=object)"
      ]
     },
     "execution_count": 5,
     "metadata": {},
     "output_type": "execute_result"
    }
   ],
   "source": [
    "df_gols.clube.unique()"
   ]
  },
  {
   "cell_type": "code",
   "execution_count": 6,
   "id": "22099b68-3a30-498f-a2ec-c94650af68bb",
   "metadata": {},
   "outputs": [
    {
     "name": "stdout",
     "output_type": "stream",
     "text": [
      "<class 'pandas.core.frame.DataFrame'>\n",
      "RangeIndex: 8932 entries, 0 to 8931\n",
      "Data columns (total 6 columns):\n",
      " #   Column       Non-Null Count  Dtype \n",
      "---  ------       --------------  ----- \n",
      " 0   partida_id   8932 non-null   int64 \n",
      " 1   rodata       8932 non-null   int64 \n",
      " 2   clube        8932 non-null   object\n",
      " 3   atleta       8932 non-null   object\n",
      " 4   minuto       8932 non-null   object\n",
      " 5   tipo_de_gol  1089 non-null   object\n",
      "dtypes: int64(2), object(4)\n",
      "memory usage: 418.8+ KB\n"
     ]
    }
   ],
   "source": [
    "df_gols.info()"
   ]
  },
  {
   "cell_type": "markdown",
   "id": "4b44953c-cd8c-4ae5-9611-85257fc77cb8",
   "metadata": {},
   "source": [
    "# Número de Gols marcados por Minuto"
   ]
  },
  {
   "cell_type": "code",
   "execution_count": 7,
   "id": "7befe6e8-e887-4cb3-932b-f528479a9508",
   "metadata": {},
   "outputs": [
    {
     "data": {
      "text/plain": [
       "minuto\n",
       "59      117\n",
       "90+3    117\n",
       "71      117\n",
       "84      116\n",
       "90+2    114\n",
       "88      114\n",
       "90      113\n",
       "45      111\n",
       "52      110\n",
       "61      110\n",
       "Name: count, dtype: int64"
      ]
     },
     "execution_count": 7,
     "metadata": {},
     "output_type": "execute_result"
    }
   ],
   "source": [
    "df_gols.minuto.value_counts().head(10)"
   ]
  },
  {
   "cell_type": "markdown",
   "id": "74ac7388-f160-419c-9fb9-5f537306578b",
   "metadata": {},
   "source": [
    "# Número de gols totais marcados pelos clubes"
   ]
  },
  {
   "cell_type": "code",
   "execution_count": 38,
   "id": "272f5949-3ce8-45f6-9203-befa58fe8d5b",
   "metadata": {},
   "outputs": [
    {
     "data": {
      "text/plain": [
       "clube\n",
       "Flamengo         590\n",
       "Palmeiras        581\n",
       "Atletico-MG      558\n",
       "Santos           478\n",
       "Sao Paulo        474\n",
       "Fluminense       473\n",
       "Corinthians      470\n",
       "Gremio           456\n",
       "Athletico-PR     452\n",
       "Internacional    431\n",
       "Botafogo-RJ      319\n",
       "Bahia            304\n",
       "Cruzeiro         302\n",
       "Sport            274\n",
       "Coritiba         267\n",
       "Chapecoense      261\n",
       "Goias            240\n",
       "Vasco            226\n",
       "Fortaleza        219\n",
       "Bragantino       203\n",
       "Ceara            195\n",
       "America-MG       176\n",
       "Vitoria          174\n",
       "Atletico-GO      150\n",
       "Ponte Preta      126\n",
       "Avai             119\n",
       "Cuiaba           105\n",
       "Figueirense      103\n",
       "Juventude         65\n",
       "Santa Cruz        45\n",
       "Criciuma          28\n",
       "Joinville         26\n",
       "CSA               24\n",
       "Parana            18\n",
       "dtype: int64"
      ]
     },
     "execution_count": 38,
     "metadata": {},
     "output_type": "execute_result"
    }
   ],
   "source": [
    "df_gols.groupby(['clube']).size().sort_values(ascending=False)"
   ]
  },
  {
   "cell_type": "code",
   "execution_count": 40,
   "id": "412ebc7c-ea80-4d61-9d94-bbfaf5e9dcbc",
   "metadata": {},
   "outputs": [
    {
     "data": {
      "text/plain": [
       "minuto\n",
       "59      11\n",
       "36      10\n",
       "72       9\n",
       "88       9\n",
       "40       9\n",
       "90+2     9\n",
       "85       9\n",
       "56       9\n",
       "58       8\n",
       "49       8\n",
       "dtype: int64"
      ]
     },
     "execution_count": 40,
     "metadata": {},
     "output_type": "execute_result"
    }
   ],
   "source": [
    "df_gols[df_gols['clube'] == 'Fluminense'].groupby(['minuto']).size().sort_values(ascending= False).head(10)"
   ]
  },
  {
   "cell_type": "markdown",
   "id": "b2ddd500-d5f9-4998-ad3e-8e25c361b5da",
   "metadata": {},
   "source": [
    "# Gols feitos por cada clube por minuto"
   ]
  },
  {
   "cell_type": "code",
   "execution_count": 42,
   "id": "68083037-19f7-475a-b332-ac08c8efdd9b",
   "metadata": {},
   "outputs": [
    {
     "data": {
      "text/plain": [
       "clube       minuto\n",
       "America-MG  38        6\n",
       "            25        5\n",
       "            47        5\n",
       "            13        4\n",
       "            52        4\n",
       "            58        4\n",
       "            35        3\n",
       "            32        3\n",
       "            34        3\n",
       "            29        3\n",
       "            55        3\n",
       "            19        3\n",
       "            15        3\n",
       "            6         3\n",
       "            12        3\n",
       "            31        3\n",
       "            48        2\n",
       "            39        2\n",
       "            40        2\n",
       "            49        2\n",
       "            42        2\n",
       "            33        2\n",
       "            45+4      2\n",
       "            30        2\n",
       "            3         2\n",
       "            53        2\n",
       "            23        2\n",
       "            20        2\n",
       "            18        2\n",
       "            59        2\n",
       "            11        2\n",
       "            5         1\n",
       "            45+1      1\n",
       "            45+8      1\n",
       "            50        1\n",
       "            1         1\n",
       "            44        1\n",
       "            43        1\n",
       "            41        1\n",
       "            4         1\n",
       "            37        1\n",
       "            10        1\n",
       "            28        1\n",
       "            27        1\n",
       "            24        1\n",
       "            2         1\n",
       "            17        1\n",
       "            16        1\n",
       "            14        1\n",
       "            60        1\n",
       "dtype: int64"
      ]
     },
     "execution_count": 42,
     "metadata": {},
     "output_type": "execute_result"
    }
   ],
   "source": [
    "df_gols[['clube', 'minuto']].groupby(['clube','minuto']).size().head(50).sort_values(ascending=False)"
   ]
  },
  {
   "cell_type": "markdown",
   "id": "1a6dee12-59ee-43c1-b6bb-ba79aa00819a",
   "metadata": {},
   "source": [
    "# Atletas com mais Gols no Total"
   ]
  },
  {
   "cell_type": "code",
   "execution_count": 45,
   "id": "125a4aea-92be-41bd-b719-cc2de4e91fed",
   "metadata": {},
   "outputs": [
    {
     "data": {
      "text/plain": [
       "atleta\n",
       "Gabriel Barbosa              97\n",
       "Fred                         81\n",
       "Diego Souza                  80\n",
       "Luciano da Rocha Neves       64\n",
       "Bruno Henrique               61\n",
       "Pedro                        61\n",
       "Eduardo Pereira Rodrigues    56\n",
       "Ricardo Oliveira             56\n",
       "Willian Gomes de Siqueira    56\n",
       "Giorgian De Arrascaeta       54\n",
       "Name: count, dtype: int64"
      ]
     },
     "execution_count": 45,
     "metadata": {},
     "output_type": "execute_result"
    }
   ],
   "source": [
    "df_gols.atleta.value_counts().head(10)"
   ]
  },
  {
   "cell_type": "markdown",
   "id": "faaef86f-5f3c-400a-85bd-6e8a26772d96",
   "metadata": {},
   "source": [
    "# Atletas com mais Gols por Clube"
   ]
  },
  {
   "cell_type": "code",
   "execution_count": 77,
   "id": "21751971-0350-413f-808e-12dd535240ff",
   "metadata": {},
   "outputs": [
    {
     "data": {
      "text/plain": [
       "clube          atleta                        \n",
       "Flamengo       Gabriel Barbosa                   56\n",
       "Palmeiras      Eduardo Pereira Rodrigues         53\n",
       "Bahia          Gilberto Oliveira Souza Junior    46\n",
       "Atletico-MG    Hulk                              46\n",
       "Flamengo       Bruno Henrique                    45\n",
       "               Pedro                             44\n",
       "Sao Paulo      Luciano da Rocha Neves            42\n",
       "Santos         Gabriel Barbosa                   41\n",
       "Fluminense     Fred                              40\n",
       "Santos         Ricardo Oliveira                  39\n",
       "Sport          Diego Souza                       38\n",
       "Gremio         Everton Sousa Soares              36\n",
       "Palmeiras      Raphael Cavalcante Veiga          36\n",
       "Fluminense     Germán Cano                       36\n",
       "Sao Paulo      Jonathan Calleri                  35\n",
       "Athletico-PR   Pablo Felipe Teixeira             33\n",
       "Palmeiras      Willian Gomes de Siqueira         32\n",
       "Flamengo       Giorgian De Arrascaeta            32\n",
       "Corinthians    Jô                                32\n",
       "Internacional  Edenílson Andrade dos Santos      31\n",
       "Name: count, dtype: int64"
      ]
     },
     "execution_count": 77,
     "metadata": {},
     "output_type": "execute_result"
    }
   ],
   "source": [
    "df_gols[['clube', 'atleta']].groupby(['clube', 'atleta']).value_counts().sort_values(ascending=False).head(20)"
   ]
  },
  {
   "cell_type": "markdown",
   "id": "c21ae5c0-9ede-4492-a411-bdfe12d0f448",
   "metadata": {},
   "source": [
    "# Jogadores que marcaram Gols pelo Clube"
   ]
  },
  {
   "cell_type": "code",
   "execution_count": 70,
   "id": "cbeb8f57-f327-4124-95c2-d703adcc535f",
   "metadata": {},
   "outputs": [
    {
     "data": {
      "text/plain": [
       "clube       atleta                           \n",
       "America-MG  Juninho                              17\n",
       "            Ademir                               14\n",
       "            Felipe Azevedo                       13\n",
       "            Gonzalo Mastriani                    12\n",
       "            Aloísio dos Santos Gonçalves          7\n",
       "            Rafael Moura                          7\n",
       "            Alexandre Egea                        6\n",
       "            Henrique Almeida                      6\n",
       "            Everaldo                              5\n",
       "            Martín Benítez                        4\n",
       "            Serginho                              4\n",
       "            Pedrinho                              4\n",
       "            Matheus Leonardo Sales Cardoso        4\n",
       "            Danilo Barcelos                       4\n",
       "            Renato Marques                        3\n",
       "            Giovanni                              3\n",
       "            Fabrício Daniel de Souza              3\n",
       "            Jonas Jessué da Silva Júnior          3\n",
       "            Danilo Avelar                         3\n",
       "            Paulo Roberto Valoura Junior          3\n",
       "            Michael Vinicius Silva de Morais      3\n",
       "            Wellington Paulista                   3\n",
       "            Iago Maidana                          3\n",
       "            Marlon                                2\n",
       "            Adalberto dos Santos Rodrigues        2\n",
       "            Gérson Magrão                         2\n",
       "            Osman                                 2\n",
       "            Ribamar                               2\n",
       "            Rodrigo Varanda                       2\n",
       "            Rodriguinho                           2\n",
       "            Carlos Emiliano Pereira               2\n",
       "            Victor Rangel                         2\n",
       "            Raúl Cáceres                          1\n",
       "            Ricardo Silva                         1\n",
       "            Rafael Bastos                         1\n",
       "            Rodolfo                               1\n",
       "            Ruy Franco de Almeida Junior          1\n",
       "            Patric Cabral Lalau                   1\n",
       "            Luan Michel Louzã                     1\n",
       "            Nicolas                               1\n",
       "            Emmanuel Martínez                     1\n",
       "            Borges                                1\n",
       "            Breno                                 1\n",
       "            Bruno Sávio                           1\n",
       "            Carlos Alberto                        1\n",
       "            Christian Savio                       1\n",
       "            Eduardo                               1\n",
       "            Geovane                               1\n",
       "            Messias Rodrigues da Silva Júnior     1\n",
       "            Gilson Gomes do Nascimento            1\n",
       "            João Paulo Gomes da Costa             1\n",
       "            Juan Pablo Ramírez Velásquez          1\n",
       "            Lucas Kal                             1\n",
       "            Marcos Antônio da Silva Gonçalves     1\n",
       "            Mauro Zárate                          1\n",
       "            Éder Lima dos Santos                  1\n",
       "Name: count, dtype: int64"
      ]
     },
     "execution_count": 70,
     "metadata": {},
     "output_type": "execute_result"
    }
   ],
   "source": [
    "df_gols[['clube', 'atleta']].query('clube == \"America-MG\"').groupby(['clube', 'atleta']).value_counts().sort_values(ascending=False)"
   ]
  },
  {
   "cell_type": "markdown",
   "id": "caa10cfa-bd51-4cf9-8d44-b61b35d224e9",
   "metadata": {},
   "source": [
    "# Trocando os valores 'NaN' por 'Bola Rolando / Parada' na coluna 'tipo_de_gol'"
   ]
  },
  {
   "cell_type": "code",
   "execution_count": 14,
   "id": "99152b5f-a8bb-495b-bb9a-1c97a9b9ba47",
   "metadata": {},
   "outputs": [
    {
     "data": {
      "text/plain": [
       "array(['Gol Contra', 'Penalty', nan], dtype=object)"
      ]
     },
     "execution_count": 14,
     "metadata": {},
     "output_type": "execute_result"
    }
   ],
   "source": [
    "df_gols.tipo_de_gol.unique()"
   ]
  },
  {
   "cell_type": "code",
   "execution_count": 15,
   "id": "e7813474-7b29-4902-b071-64a2d878b977",
   "metadata": {},
   "outputs": [
    {
     "data": {
      "text/plain": [
       "7843"
      ]
     },
     "execution_count": 15,
     "metadata": {},
     "output_type": "execute_result"
    }
   ],
   "source": [
    "df_gols.tipo_de_gol.isna().sum()"
   ]
  },
  {
   "cell_type": "code",
   "execution_count": 16,
   "id": "7877922d-7e63-4db6-9d22-2da833a3e4b8",
   "metadata": {},
   "outputs": [],
   "source": [
    "df_gols.tipo_de_gol.fillna(value = 'Bola Rolando / Parada', inplace=True)"
   ]
  },
  {
   "cell_type": "code",
   "execution_count": 17,
   "id": "180c97a6-2e4d-4a95-bb13-cd2355c3baa2",
   "metadata": {},
   "outputs": [
    {
     "data": {
      "text/plain": [
       "0"
      ]
     },
     "execution_count": 17,
     "metadata": {},
     "output_type": "execute_result"
    }
   ],
   "source": [
    "df_gols.tipo_de_gol.isna().sum()"
   ]
  },
  {
   "cell_type": "code",
   "execution_count": 18,
   "id": "5e483ad3-42c0-4540-a2ee-df9ddd8f590e",
   "metadata": {},
   "outputs": [
    {
     "data": {
      "text/html": [
       "<div>\n",
       "<style scoped>\n",
       "    .dataframe tbody tr th:only-of-type {\n",
       "        vertical-align: middle;\n",
       "    }\n",
       "\n",
       "    .dataframe tbody tr th {\n",
       "        vertical-align: top;\n",
       "    }\n",
       "\n",
       "    .dataframe thead th {\n",
       "        text-align: right;\n",
       "    }\n",
       "</style>\n",
       "<table border=\"1\" class=\"dataframe\">\n",
       "  <thead>\n",
       "    <tr style=\"text-align: right;\">\n",
       "      <th></th>\n",
       "      <th>partida_id</th>\n",
       "      <th>rodata</th>\n",
       "      <th>clube</th>\n",
       "      <th>atleta</th>\n",
       "      <th>minuto</th>\n",
       "      <th>tipo_de_gol</th>\n",
       "    </tr>\n",
       "  </thead>\n",
       "  <tbody>\n",
       "    <tr>\n",
       "      <th>0</th>\n",
       "      <td>4607</td>\n",
       "      <td>1</td>\n",
       "      <td>Fluminense</td>\n",
       "      <td>Nirley da Silva Fonseca</td>\n",
       "      <td>59</td>\n",
       "      <td>Gol Contra</td>\n",
       "    </tr>\n",
       "    <tr>\n",
       "      <th>1</th>\n",
       "      <td>4607</td>\n",
       "      <td>1</td>\n",
       "      <td>Fluminense</td>\n",
       "      <td>Fred</td>\n",
       "      <td>45</td>\n",
       "      <td>Penalty</td>\n",
       "    </tr>\n",
       "    <tr>\n",
       "      <th>2</th>\n",
       "      <td>4607</td>\n",
       "      <td>1</td>\n",
       "      <td>Fluminense</td>\n",
       "      <td>Rafael Sóbis</td>\n",
       "      <td>31</td>\n",
       "      <td>Bola Rolando / Parada</td>\n",
       "    </tr>\n",
       "    <tr>\n",
       "      <th>3</th>\n",
       "      <td>4608</td>\n",
       "      <td>1</td>\n",
       "      <td>Internacional</td>\n",
       "      <td>Charles Aránguiz</td>\n",
       "      <td>6</td>\n",
       "      <td>Bola Rolando / Parada</td>\n",
       "    </tr>\n",
       "    <tr>\n",
       "      <th>4</th>\n",
       "      <td>4612</td>\n",
       "      <td>1</td>\n",
       "      <td>Cruzeiro</td>\n",
       "      <td>Nílton Ferreira Júnior</td>\n",
       "      <td>63</td>\n",
       "      <td>Bola Rolando / Parada</td>\n",
       "    </tr>\n",
       "  </tbody>\n",
       "</table>\n",
       "</div>"
      ],
      "text/plain": [
       "   partida_id  rodata          clube                   atleta minuto  \\\n",
       "0        4607       1     Fluminense  Nirley da Silva Fonseca     59   \n",
       "1        4607       1     Fluminense                     Fred     45   \n",
       "2        4607       1     Fluminense             Rafael Sóbis     31   \n",
       "3        4608       1  Internacional         Charles Aránguiz      6   \n",
       "4        4612       1       Cruzeiro   Nílton Ferreira Júnior     63   \n",
       "\n",
       "             tipo_de_gol  \n",
       "0             Gol Contra  \n",
       "1                Penalty  \n",
       "2  Bola Rolando / Parada  \n",
       "3  Bola Rolando / Parada  \n",
       "4  Bola Rolando / Parada  "
      ]
     },
     "execution_count": 18,
     "metadata": {},
     "output_type": "execute_result"
    }
   ],
   "source": [
    "df_gols.head()"
   ]
  },
  {
   "cell_type": "markdown",
   "id": "c2812d9a-bf53-4ab8-be0f-5ee594bcdac7",
   "metadata": {},
   "source": [
    "# Quantidade de Gols por Tipo de Gol e Clube"
   ]
  },
  {
   "cell_type": "code",
   "execution_count": 19,
   "id": "c65cc612-f991-4758-9603-e6369d4fe47a",
   "metadata": {},
   "outputs": [
    {
     "data": {
      "text/plain": [
       "clube         tipo_de_gol          \n",
       "America-MG    Bola Rolando / Parada    156\n",
       "              Penalty                   20\n",
       "Athletico-PR  Bola Rolando / Parada    405\n",
       "              Gol Contra                13\n",
       "              Penalty                   34\n",
       "Atletico-GO   Bola Rolando / Parada    132\n",
       "              Gol Contra                 3\n",
       "              Penalty                   15\n",
       "Atletico-MG   Bola Rolando / Parada    479\n",
       "              Gol Contra                19\n",
       "              Penalty                   60\n",
       "Avai          Bola Rolando / Parada     93\n",
       "              Gol Contra                 2\n",
       "              Penalty                   24\n",
       "Bahia         Bola Rolando / Parada    265\n",
       "              Gol Contra                 5\n",
       "              Penalty                   34\n",
       "Botafogo-RJ   Bola Rolando / Parada    280\n",
       "              Gol Contra                 8\n",
       "              Penalty                   31\n",
       "Name: count, dtype: int64"
      ]
     },
     "execution_count": 19,
     "metadata": {},
     "output_type": "execute_result"
    }
   ],
   "source": [
    "df_gols[['clube', 'tipo_de_gol']].groupby(['clube', 'tipo_de_gol']).value_counts().head(20)"
   ]
  },
  {
   "cell_type": "markdown",
   "id": "7209f363-ac06-4938-b38b-40a1e9d99b97",
   "metadata": {},
   "source": [
    "# Times com mais Gols com Bola Rolando / Parada"
   ]
  },
  {
   "cell_type": "code",
   "execution_count": 56,
   "id": "01464ee1-ad30-4176-814a-6bc582316ff3",
   "metadata": {},
   "outputs": [
    {
     "data": {
      "text/plain": [
       "clube          tipo_de_gol          \n",
       "Flamengo       Bola Rolando / Parada    534\n",
       "Palmeiras      Bola Rolando / Parada    528\n",
       "Atletico-MG    Bola Rolando / Parada    479\n",
       "Sao Paulo      Bola Rolando / Parada    424\n",
       "Corinthians    Bola Rolando / Parada    418\n",
       "Santos         Bola Rolando / Parada    416\n",
       "Gremio         Bola Rolando / Parada    407\n",
       "Athletico-PR   Bola Rolando / Parada    405\n",
       "Fluminense     Bola Rolando / Parada    404\n",
       "Internacional  Bola Rolando / Parada    381\n",
       "Botafogo-RJ    Bola Rolando / Parada    280\n",
       "Cruzeiro       Bola Rolando / Parada    270\n",
       "Bahia          Bola Rolando / Parada    265\n",
       "Sport          Bola Rolando / Parada    237\n",
       "Coritiba       Bola Rolando / Parada    234\n",
       "Chapecoense    Bola Rolando / Parada    226\n",
       "Goias          Bola Rolando / Parada    207\n",
       "Vasco          Bola Rolando / Parada    189\n",
       "Fortaleza      Bola Rolando / Parada    189\n",
       "Bragantino     Bola Rolando / Parada    186\n",
       "Ceara          Bola Rolando / Parada    169\n",
       "America-MG     Bola Rolando / Parada    156\n",
       "Vitoria        Bola Rolando / Parada    150\n",
       "Atletico-GO    Bola Rolando / Parada    132\n",
       "Ponte Preta    Bola Rolando / Parada    108\n",
       "Avai           Bola Rolando / Parada     93\n",
       "Figueirense    Bola Rolando / Parada     90\n",
       "Cuiaba         Bola Rolando / Parada     87\n",
       "Juventude      Bola Rolando / Parada     54\n",
       "Santa Cruz     Bola Rolando / Parada     40\n",
       "Criciuma       Bola Rolando / Parada     26\n",
       "Joinville      Bola Rolando / Parada     23\n",
       "CSA            Bola Rolando / Parada     20\n",
       "Parana         Bola Rolando / Parada     16\n",
       "Name: count, dtype: int64"
      ]
     },
     "execution_count": 56,
     "metadata": {},
     "output_type": "execute_result"
    }
   ],
   "source": [
    "df_gols[['clube', 'tipo_de_gol']].query('tipo_de_gol == \"Bola Rolando / Parada\"').groupby(['clube', 'tipo_de_gol']).value_counts().sort_values(ascending=False)"
   ]
  },
  {
   "cell_type": "markdown",
   "id": "c61799b6-e3a7-4d1e-ab96-3b09dd8417ee",
   "metadata": {},
   "source": [
    "# Times com mais gols de Penalty"
   ]
  },
  {
   "cell_type": "code",
   "execution_count": 62,
   "id": "2165501d-8399-4366-9770-7b7876e5a91f",
   "metadata": {},
   "outputs": [
    {
     "data": {
      "text/plain": [
       "clube          tipo_de_gol\n",
       "Atletico-MG    Penalty        60\n",
       "Fluminense     Penalty        46\n",
       "Santos         Penalty        46\n",
       "Sao Paulo      Penalty        45\n",
       "Flamengo       Penalty        43\n",
       "Palmeiras      Penalty        42\n",
       "Internacional  Penalty        41\n",
       "Corinthians    Penalty        40\n",
       "Gremio         Penalty        38\n",
       "Bahia          Penalty        34\n",
       "Athletico-PR   Penalty        34\n",
       "Vasco          Penalty        31\n",
       "Botafogo-RJ    Penalty        31\n",
       "Chapecoense    Penalty        30\n",
       "Coritiba       Penalty        30\n",
       "Sport          Penalty        30\n",
       "Goias          Penalty        26\n",
       "Avai           Penalty        24\n",
       "Fortaleza      Penalty        24\n",
       "Cruzeiro       Penalty        22\n",
       "America-MG     Penalty        20\n",
       "Ceara          Penalty        19\n",
       "Vitoria        Penalty        16\n",
       "Cuiaba         Penalty        15\n",
       "Atletico-GO    Penalty        15\n",
       "Ponte Preta    Penalty        14\n",
       "Bragantino     Penalty        13\n",
       "Figueirense    Penalty        10\n",
       "Juventude      Penalty         7\n",
       "Santa Cruz     Penalty         5\n",
       "CSA            Penalty         4\n",
       "Criciuma       Penalty         2\n",
       "Joinville      Penalty         1\n",
       "Parana         Penalty         1\n",
       "Name: count, dtype: int64"
      ]
     },
     "execution_count": 62,
     "metadata": {},
     "output_type": "execute_result"
    }
   ],
   "source": [
    "df_gols[['clube', 'tipo_de_gol']].query('tipo_de_gol == \"Penalty\"' ).value_counts()"
   ]
  },
  {
   "cell_type": "code",
   "execution_count": 63,
   "id": "74b20262-71fa-4f49-a615-7971077d591f",
   "metadata": {},
   "outputs": [
    {
     "name": "stdout",
     "output_type": "stream",
     "text": [
      "Total de Gols de Penalty:  859\n"
     ]
    }
   ],
   "source": [
    "print('Total de Gols de Penalty: ', df_gols[['clube', 'tipo_de_gol']].query('tipo_de_gol == \"Penalty\"' ).value_counts().sum())"
   ]
  },
  {
   "cell_type": "markdown",
   "id": "59b94bb1-7a37-4024-bac1-498cde3fde49",
   "metadata": {},
   "source": [
    "# Times com mais Gols Contra"
   ]
  },
  {
   "cell_type": "code",
   "execution_count": 65,
   "id": "56b2aaca-768b-47b2-ace2-87139d264bcf",
   "metadata": {},
   "outputs": [
    {
     "data": {
      "text/plain": [
       "clube          tipo_de_gol\n",
       "Fluminense     Gol Contra     23\n",
       "Atletico-MG    Gol Contra     19\n",
       "Santos         Gol Contra     16\n",
       "Flamengo       Gol Contra     13\n",
       "Athletico-PR   Gol Contra     13\n",
       "Corinthians    Gol Contra     12\n",
       "Palmeiras      Gol Contra     11\n",
       "Gremio         Gol Contra     11\n",
       "Cruzeiro       Gol Contra     10\n",
       "Internacional  Gol Contra      9\n",
       "Botafogo-RJ    Gol Contra      8\n",
       "Vitoria        Gol Contra      8\n",
       "Goias          Gol Contra      7\n",
       "Ceara          Gol Contra      7\n",
       "Sport          Gol Contra      7\n",
       "Vasco          Gol Contra      6\n",
       "Fortaleza      Gol Contra      6\n",
       "Bahia          Gol Contra      5\n",
       "Sao Paulo      Gol Contra      5\n",
       "Chapecoense    Gol Contra      5\n",
       "Ponte Preta    Gol Contra      4\n",
       "Juventude      Gol Contra      4\n",
       "Bragantino     Gol Contra      4\n",
       "Figueirense    Gol Contra      3\n",
       "Coritiba       Gol Contra      3\n",
       "Atletico-GO    Gol Contra      3\n",
       "Cuiaba         Gol Contra      3\n",
       "Joinville      Gol Contra      2\n",
       "Avai           Gol Contra      2\n",
       "Parana         Gol Contra      1\n",
       "Name: count, dtype: int64"
      ]
     },
     "execution_count": 65,
     "metadata": {},
     "output_type": "execute_result"
    }
   ],
   "source": [
    "df_gols[['clube', 'tipo_de_gol']].query('tipo_de_gol == \"Gol Contra\"' ).value_counts()"
   ]
  },
  {
   "cell_type": "code",
   "execution_count": 24,
   "id": "abb2c657-7d38-4ff8-8fff-686512fa6cbd",
   "metadata": {},
   "outputs": [
    {
     "name": "stdout",
     "output_type": "stream",
     "text": [
      "Total de Gols Contra:  230\n"
     ]
    }
   ],
   "source": [
    "print(\"Total de Gols Contra: \", df_gols[['clube', 'tipo_de_gol']].query('tipo_de_gol == \"Gol Contra\"' ).value_counts().sum())"
   ]
  },
  {
   "cell_type": "markdown",
   "id": "2afedd21-d41a-42d6-b84e-331acf6e70db",
   "metadata": {},
   "source": [
    "# Criando uma Series calculando os gols totais retirando os contras"
   ]
  },
  {
   "cell_type": "code",
   "execution_count": 25,
   "id": "035d7457-eb54-428a-aef1-d11a6c911ec2",
   "metadata": {},
   "outputs": [],
   "source": [
    "gols_contra = df_gols[['clube', 'tipo_de_gol']].query('tipo_de_gol == \"Gol Contra\"' ).groupby(['clube']).value_counts()"
   ]
  },
  {
   "cell_type": "code",
   "execution_count": 26,
   "id": "acd495a8-3824-4b7b-926d-d818436bd7d6",
   "metadata": {},
   "outputs": [
    {
     "data": {
      "text/plain": [
       "clube          tipo_de_gol\n",
       "Athletico-PR   Gol Contra     13\n",
       "Atletico-GO    Gol Contra      3\n",
       "Atletico-MG    Gol Contra     19\n",
       "Avai           Gol Contra      2\n",
       "Bahia          Gol Contra      5\n",
       "Botafogo-RJ    Gol Contra      8\n",
       "Bragantino     Gol Contra      4\n",
       "Ceara          Gol Contra      7\n",
       "Chapecoense    Gol Contra      5\n",
       "Corinthians    Gol Contra     12\n",
       "Coritiba       Gol Contra      3\n",
       "Cruzeiro       Gol Contra     10\n",
       "Cuiaba         Gol Contra      3\n",
       "Figueirense    Gol Contra      3\n",
       "Flamengo       Gol Contra     13\n",
       "Fluminense     Gol Contra     23\n",
       "Fortaleza      Gol Contra      6\n",
       "Goias          Gol Contra      7\n",
       "Gremio         Gol Contra     11\n",
       "Internacional  Gol Contra      9\n",
       "Joinville      Gol Contra      2\n",
       "Juventude      Gol Contra      4\n",
       "Palmeiras      Gol Contra     11\n",
       "Parana         Gol Contra      1\n",
       "Ponte Preta    Gol Contra      4\n",
       "Santos         Gol Contra     16\n",
       "Sao Paulo      Gol Contra      5\n",
       "Sport          Gol Contra      7\n",
       "Vasco          Gol Contra      6\n",
       "Vitoria        Gol Contra      8\n",
       "Name: count, dtype: int64"
      ]
     },
     "execution_count": 26,
     "metadata": {},
     "output_type": "execute_result"
    }
   ],
   "source": [
    "gols_contra"
   ]
  },
  {
   "cell_type": "code",
   "execution_count": 27,
   "id": "57143729-7592-4ad0-96ff-ef4ba7a79653",
   "metadata": {},
   "outputs": [],
   "source": [
    "gols_totais = df_gols.groupby(['clube']).size()"
   ]
  },
  {
   "cell_type": "code",
   "execution_count": 28,
   "id": "43ab890e-2521-43e2-bf92-e23b71dcf327",
   "metadata": {},
   "outputs": [
    {
     "data": {
      "text/plain": [
       "clube\n",
       "America-MG       176\n",
       "Athletico-PR     452\n",
       "Atletico-GO      150\n",
       "Atletico-MG      558\n",
       "Avai             119\n",
       "Bahia            304\n",
       "Botafogo-RJ      319\n",
       "Bragantino       203\n",
       "CSA               24\n",
       "Ceara            195\n",
       "Chapecoense      261\n",
       "Corinthians      470\n",
       "Coritiba         267\n",
       "Criciuma          28\n",
       "Cruzeiro         302\n",
       "Cuiaba           105\n",
       "Figueirense      103\n",
       "Flamengo         590\n",
       "Fluminense       473\n",
       "Fortaleza        219\n",
       "Goias            240\n",
       "Gremio           456\n",
       "Internacional    431\n",
       "Joinville         26\n",
       "Juventude         65\n",
       "Palmeiras        581\n",
       "Parana            18\n",
       "Ponte Preta      126\n",
       "Santa Cruz        45\n",
       "Santos           478\n",
       "Sao Paulo        474\n",
       "Sport            274\n",
       "Vasco            226\n",
       "Vitoria          174\n",
       "dtype: int64"
      ]
     },
     "execution_count": 28,
     "metadata": {},
     "output_type": "execute_result"
    }
   ],
   "source": [
    "gols_totais"
   ]
  },
  {
   "cell_type": "code",
   "execution_count": 29,
   "id": "f926e47e-e77b-43d3-867e-f27596301b8f",
   "metadata": {},
   "outputs": [
    {
     "data": {
      "text/plain": [
       "Index(['America-MG', 'Athletico-PR', 'Atletico-GO', 'Atletico-MG', 'Avai',\n",
       "       'Bahia', 'Botafogo-RJ', 'Bragantino', 'CSA', 'Ceara', 'Chapecoense',\n",
       "       'Corinthians', 'Coritiba', 'Criciuma', 'Cruzeiro', 'Cuiaba',\n",
       "       'Figueirense', 'Flamengo', 'Fluminense', 'Fortaleza', 'Goias', 'Gremio',\n",
       "       'Internacional', 'Joinville', 'Juventude', 'Palmeiras', 'Parana',\n",
       "       'Ponte Preta', 'Santa Cruz', 'Santos', 'Sao Paulo', 'Sport', 'Vasco',\n",
       "       'Vitoria'],\n",
       "      dtype='object', name='clube')"
      ]
     },
     "execution_count": 29,
     "metadata": {},
     "output_type": "execute_result"
    }
   ],
   "source": [
    "nomes = gols_totais.keys()\n",
    "nomes"
   ]
  },
  {
   "cell_type": "code",
   "execution_count": 30,
   "id": "d39a70a5-668b-406d-afb9-32411eae9f94",
   "metadata": {},
   "outputs": [
    {
     "name": "stdout",
     "output_type": "stream",
     "text": [
      "{'America-MG': 176, 'Athletico-PR': 452, 'Atletico-GO': 150, 'Atletico-MG': 558, 'Avai': 119, 'Bahia': 304, 'Botafogo-RJ': 319, 'Bragantino': 203, 'CSA': 24, 'Ceara': 195, 'Chapecoense': 261, 'Corinthians': 470, 'Coritiba': 267, 'Criciuma': 28, 'Cruzeiro': 302, 'Cuiaba': 105, 'Figueirense': 103, 'Flamengo': 590, 'Fluminense': 473, 'Fortaleza': 219, 'Goias': 240, 'Gremio': 456, 'Internacional': 431, 'Joinville': 26, 'Juventude': 65, 'Palmeiras': 581, 'Parana': 18, 'Ponte Preta': 126, 'Santa Cruz': 45, 'Santos': 478, 'Sao Paulo': 474, 'Sport': 274, 'Vasco': 226, 'Vitoria': 174}\n"
     ]
    }
   ],
   "source": [
    "c = 0\n",
    "lista = []\n",
    "for i in gols_totais:\n",
    "    lista.append((nomes[c], i))\n",
    "    c += 1\n",
    "dict_total = dict(lista)\n",
    "print(dict_total)"
   ]
  },
  {
   "cell_type": "code",
   "execution_count": 31,
   "id": "b72559e1-ab42-4ae9-9dec-b11f4c8182c0",
   "metadata": {},
   "outputs": [],
   "source": [
    "nomes2 = gols_contra.keys()"
   ]
  },
  {
   "cell_type": "code",
   "execution_count": 32,
   "id": "1c6c1770-e64f-434d-98f4-5630ee6a21a4",
   "metadata": {},
   "outputs": [
    {
     "name": "stdout",
     "output_type": "stream",
     "text": [
      "{'Athletico-PR': 13, 'Atletico-GO': 3, 'Atletico-MG': 19, 'Avai': 2, 'Bahia': 5, 'Botafogo-RJ': 8, 'Bragantino': 4, 'Ceara': 7, 'Chapecoense': 5, 'Corinthians': 12, 'Coritiba': 3, 'Cruzeiro': 10, 'Cuiaba': 3, 'Figueirense': 3, 'Flamengo': 13, 'Fluminense': 23, 'Fortaleza': 6, 'Goias': 7, 'Gremio': 11, 'Internacional': 9, 'Joinville': 2, 'Juventude': 4, 'Palmeiras': 11, 'Parana': 1, 'Ponte Preta': 4, 'Santos': 16, 'Sao Paulo': 5, 'Sport': 7, 'Vasco': 6, 'Vitoria': 8}\n"
     ]
    }
   ],
   "source": [
    "c = 0\n",
    "lista = []\n",
    "for i in gols_contra:\n",
    "    lista.append((nomes2[c][0], i))\n",
    "    c += 1\n",
    "dict_contra = dict(lista)\n",
    "print(dict_contra)"
   ]
  },
  {
   "cell_type": "code",
   "execution_count": 33,
   "id": "86dd3506-8e81-4e2e-a356-b3974d5a11e9",
   "metadata": {},
   "outputs": [
    {
     "name": "stdout",
     "output_type": "stream",
     "text": [
      "{'America-MG': 176, 'Athletico-PR': 439, 'Atletico-GO': 147, 'Atletico-MG': 539, 'Avai': 117, 'Bahia': 299, 'Botafogo-RJ': 311, 'Bragantino': 199, 'CSA': 24, 'Ceara': 188, 'Chapecoense': 256, 'Corinthians': 458, 'Coritiba': 264, 'Criciuma': 28, 'Cruzeiro': 292, 'Cuiaba': 102, 'Figueirense': 100, 'Flamengo': 577, 'Fluminense': 450, 'Fortaleza': 213, 'Goias': 233, 'Gremio': 445, 'Internacional': 422, 'Joinville': 24, 'Juventude': 61, 'Palmeiras': 570, 'Parana': 17, 'Ponte Preta': 122, 'Santa Cruz': 45, 'Santos': 462, 'Sao Paulo': 469, 'Sport': 267, 'Vasco': 220, 'Vitoria': 166}\n"
     ]
    }
   ],
   "source": [
    "for chave in dict_contra:\n",
    "    if chave in dict_total:\n",
    "        dict_total[chave] = dict_total[chave] - dict_contra[chave]\n",
    "print(dict_total)"
   ]
  },
  {
   "cell_type": "code",
   "execution_count": 34,
   "id": "4b6855c3-acbb-434e-8a94-f92e64db0824",
   "metadata": {},
   "outputs": [],
   "source": [
    "gols_a_favor = pd.Series(dict_total)"
   ]
  },
  {
   "cell_type": "code",
   "execution_count": 35,
   "id": "6b071f77-997f-4337-a0b5-af7d19d6d86a",
   "metadata": {},
   "outputs": [
    {
     "data": {
      "text/plain": [
       "Flamengo         577\n",
       "Palmeiras        570\n",
       "Atletico-MG      539\n",
       "Sao Paulo        469\n",
       "Santos           462\n",
       "Corinthians      458\n",
       "Fluminense       450\n",
       "Gremio           445\n",
       "Athletico-PR     439\n",
       "Internacional    422\n",
       "Botafogo-RJ      311\n",
       "Bahia            299\n",
       "Cruzeiro         292\n",
       "Sport            267\n",
       "Coritiba         264\n",
       "Chapecoense      256\n",
       "Goias            233\n",
       "Vasco            220\n",
       "Fortaleza        213\n",
       "Bragantino       199\n",
       "Ceara            188\n",
       "America-MG       176\n",
       "Vitoria          166\n",
       "Atletico-GO      147\n",
       "Ponte Preta      122\n",
       "Avai             117\n",
       "Cuiaba           102\n",
       "Figueirense      100\n",
       "Juventude         61\n",
       "Santa Cruz        45\n",
       "Criciuma          28\n",
       "Joinville         24\n",
       "CSA               24\n",
       "Parana            17\n",
       "dtype: int64"
      ]
     },
     "execution_count": 35,
     "metadata": {},
     "output_type": "execute_result"
    }
   ],
   "source": [
    "gols_a_favor.sort_values(ascending=False)"
   ]
  },
  {
   "cell_type": "code",
   "execution_count": 36,
   "id": "03fa86c2-7aaf-441f-9127-9aea7aced75a",
   "metadata": {},
   "outputs": [
    {
     "data": {
      "text/plain": [
       "count     34.000000\n",
       "mean     255.941176\n",
       "std      171.768685\n",
       "min       17.000000\n",
       "25%      118.250000\n",
       "50%      226.500000\n",
       "75%      434.750000\n",
       "max      577.000000\n",
       "dtype: float64"
      ]
     },
     "execution_count": 36,
     "metadata": {},
     "output_type": "execute_result"
    }
   ],
   "source": [
    "gols_a_favor.describe()"
   ]
  }
 ],
 "metadata": {
  "kernelspec": {
   "display_name": "Python 3 (ipykernel)",
   "language": "python",
   "name": "python3"
  },
  "language_info": {
   "codemirror_mode": {
    "name": "ipython",
    "version": 3
   },
   "file_extension": ".py",
   "mimetype": "text/x-python",
   "name": "python",
   "nbconvert_exporter": "python",
   "pygments_lexer": "ipython3",
   "version": "3.11.7"
  }
 },
 "nbformat": 4,
 "nbformat_minor": 5
}
