{
 "cells": [
  {
   "cell_type": "code",
   "execution_count": null,
   "id": "ad2fa911-2c6a-4de7-9379-605e3cfad5b0",
   "metadata": {},
   "outputs": [],
   "source": [
    "# Lista de possíveis palavras que podem ser escolhidas\n",
    "palavras = ['banana', 'uva', 'morango', 'abacate', 'melancia']"
   ]
  },
  {
   "cell_type": "code",
   "execution_count": null,
   "id": "7877aeef-08ae-4d18-9ffe-8cd9015441a3",
   "metadata": {},
   "outputs": [],
   "source": [
    "# Importando o método choice() do módulo ramdom\n",
    "# Esse método escolhe uma palavra, aleatoriamente, dentro de uma dada sequência\n",
    "from random import choice\n",
    "palavra_escolhida = choice(palavras)\n",
    "palavra_escondida = []"
   ]
  },
  {
   "cell_type": "code",
   "execution_count": null,
   "id": "6d83e7c7-9c2c-4807-9eda-c3cb6c0a7c57",
   "metadata": {},
   "outputs": [],
   "source": [
    "letras_escolhidas = []\n",
    "letras_erradas = []\n",
    "# Defindo o número de chances do jogador\n",
    "chances = 6"
   ]
  },
  {
   "cell_type": "code",
   "execution_count": null,
   "id": "9cca1902-cd49-45fb-8d3a-863dac680ab0",
   "metadata": {},
   "outputs": [],
   "source": [
    "# Gerando uma lista substituindo as letras da palavra_escolhida por '_'\n",
    "for i in palavra_escolhida:\n",
    "    palavra_escondida.append('_')\n",
    "print(palavra_escondida)"
   ]
  },
  {
   "cell_type": "code",
   "execution_count": null,
   "id": "c4f420cc-54d9-42d0-a7c6-ae6fdd275594",
   "metadata": {},
   "outputs": [],
   "source": [
    "while chances > 0 and palavra_escondida.count('_') > 0:\n",
    "    letra = str(input('Escolha uma letra: '))\n",
    "    letras_escolhidas.append(letra)\n",
    "    if letra in palavra_escolhida:\n",
    "        for pos, i in enumerate(palavra_escolhida):\n",
    "            if i == letra:\n",
    "                palavra_escondida[pos] = letra\n",
    "    else:\n",
    "        letras_erradas.append(letra)\n",
    "        chances -= 1\n",
    "    print(palavra_escondida)\n",
    "    print(f'Letras erradas: {letras_erradas}')\n",
    "    print()\n",
    "if palavra_escondida.count('_') == 0:\n",
    "    print('Parabéns! Você acertou a palavra!')\n",
    "else:\n",
    "    print(f'Você perdeu! A palavra era {palavra_escolhida.upper()}.')"
   ]
  }
 ],
 "metadata": {
  "kernelspec": {
   "display_name": "Python 3 (ipykernel)",
   "language": "python",
   "name": "python3"
  },
  "language_info": {
   "codemirror_mode": {
    "name": "ipython",
    "version": 3
   },
   "file_extension": ".py",
   "mimetype": "text/x-python",
   "name": "python",
   "nbconvert_exporter": "python",
   "pygments_lexer": "ipython3",
   "version": "3.11.7"
  }
 },
 "nbformat": 4,
 "nbformat_minor": 5
}
